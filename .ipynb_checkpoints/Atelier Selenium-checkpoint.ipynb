{
 "cells": [
  {
   "cell_type": "markdown",
   "id": "c6f333bd-2609-4858-b410-1414c00cd3d6",
   "metadata": {},
   "source": [
    "# <center>Atelier Scraping</center>"
   ]
  },
  {
   "cell_type": "markdown",
   "id": "6e655cd2-053b-47a2-baf0-9eabfc01b7dc",
   "metadata": {},
   "source": [
    "<div style=\"text-align: center;\">\n",
    "    <img src=\"images/modulepython.png\" alt=\"Example Image\">\n",
    "</div>"
   ]
  },
  {
   "cell_type": "markdown",
   "id": "d6f5508b-1d32-460d-b537-f9ee7c3ec82b",
   "metadata": {},
   "source": [
    "Le scraping, ou \"web scraping\", est une technique utilisée pour extraire automatiquement des données à partir de sites web. Cette méthode permet de récupérer des informations structurées ou semi-structurées disponibles sur des pages web, que l'on peut ensuite analyser, traiter ou stocker pour divers usages. Mais il permet également d'automatiser des tâches sur un site. Il existe plusieurs module python permettant de faire du scraping : BeautifulSoup, Selenium, Scrapy, Requests, Octoparse.\n",
    "\n",
    "Nous utiliserons dans cet atelier BeautifulSoup et Selenium."
   ]
  },
  {
   "cell_type": "markdown",
   "id": "b550f35b-82c1-409a-bf92-e4d8c53ccec8",
   "metadata": {},
   "source": [
    "# Introduction"
   ]
  },
  {
   "cell_type": "markdown",
   "id": "c5cae85f-033a-472d-90f3-32c79cd2dd3c",
   "metadata": {},
   "source": [
    "### Introduction au HTML"
   ]
  },
  {
   "cell_type": "markdown",
   "id": "6e4c180f-14dc-419d-bb8e-3e74ff877729",
   "metadata": {},
   "source": [
    "Voici un petit [Formulaire HTML](formulaire_html.md). Il permet rapidemment d'apprendre ou se remémorer les balises principales permettant de lire du HTML et d'ainsi repérer les différents éléments d'une page web.\r\n"
   ]
  },
  {
   "cell_type": "markdown",
   "id": "c4f7a900-98a7-4532-8834-91b8f8da272c",
   "metadata": {},
   "source": [
    "### Législation autour du scrping"
   ]
  },
  {
   "cell_type": "markdown",
   "id": "9ea15dbd-1439-4ae3-832b-3d4e507bad26",
   "metadata": {},
   "source": [
    "<!DOCTYPE html>\r\n",
    "<html lang=\"fr\"/head>\r\n",
    "<body>\r\n",
    "    <p>Le scraping web est généralement autorisé dans les cas suivants :</p>\r\n",
    "    <ul>\r\n",
    "        <li>Les données extraites sont des données accessibles au public.</li>\r\n",
    "        <li>Les informations recueillies ne sont pas protégées par un login.</li>\r\n",
    "    </ul>\r\n",
    "    <p>\r\n",
    "        Il faut souvent être prudent lors du scraping, notamment vis-à-vis des Termes de service,\r\n",
    "        des données protégées par le droit d'auteur et des données personnelles (car les données\r\n",
    "        personnelles sont généralement protégées par les lois sur la vie privée). Le manque de\r\n",
    "        lois explicites fait des usages du scraping une pratique juridiquement complexe.\r\n",
    "    </p>\r\n",
    "</body>\r\n",
    "</html>\r\n"
   ]
  },
  {
   "cell_type": "code",
   "execution_count": null,
   "id": "6467c6f1-b26b-4834-a6a8-929e314a4672",
   "metadata": {},
   "outputs": [],
   "source": []
  },
  {
   "cell_type": "code",
   "execution_count": null,
   "id": "c7914e88-eb15-45a2-83db-fb3b168ebd5d",
   "metadata": {},
   "outputs": [],
   "source": []
  },
  {
   "cell_type": "code",
   "execution_count": null,
   "id": "452044e2-8b81-4269-a3c4-a28a2edc684b",
   "metadata": {},
   "outputs": [],
   "source": []
  },
  {
   "cell_type": "code",
   "execution_count": null,
   "id": "2bed0304-8dd4-46fb-8a5c-2a05f795d0e2",
   "metadata": {},
   "outputs": [],
   "source": []
  },
  {
   "cell_type": "code",
   "execution_count": null,
   "id": "8d67178f-c36b-4468-9212-8e1f915bfbea",
   "metadata": {},
   "outputs": [],
   "source": []
  },
  {
   "cell_type": "markdown",
   "id": "a7048a99-f382-4a77-8903-1d0894fa5e58",
   "metadata": {},
   "source": [
    "## Activité 1 : Construire un DataFrame des énigmes de Professeur Layton"
   ]
  },
  {
   "cell_type": "markdown",
   "id": "7e864852-a2ae-4ade-b39c-5b22ce681b9d",
   "metadata": {},
   "source": [
    "###### Import des modules python"
   ]
  },
  {
   "cell_type": "code",
   "execution_count": 7,
   "id": "b32e7519-3981-4e11-91a2-d9f313eadeac",
   "metadata": {},
   "outputs": [],
   "source": [
    "# Import des bibliothèques\n",
    "from selenium import webdriver\n",
    "from selenium.webdriver.chrome.service import Service\n",
    "from webdriver_manager.chrome import ChromeDriverManager\n",
    "from selenium.webdriver.common.by import By"
   ]
  },
  {
   "cell_type": "markdown",
   "id": "566b6494-c489-4302-9763-47f072ebaacc",
   "metadata": {},
   "source": [
    "###### Fiche récap des manières de localiser un objet sur une page web"
   ]
  },
  {
   "cell_type": "raw",
   "id": "bf6e28ef-bac8-4d16-817e-cc87ef56f13f",
   "metadata": {},
   "source": [
    "ID = \"id\"\n",
    "NAME = \"name\"\n",
    "XPATH = \"xpath\"\n",
    "LINK_TEXT = \"link text\"\n",
    "PARTIAL_LINK_TEXT = \"partial link text\"\n",
    "TAG_NAME = \"tag name\"\n",
    "CLASS_NAME = \"class name\"\n",
    "CSS_SELECTOR = \"css selector\""
   ]
  },
  {
   "cell_type": "markdown",
   "id": "e1a05b38-e998-4ee4-90ae-3c148945110f",
   "metadata": {},
   "source": [
    "###### Connexion au site et récupération des URL des énigmes"
   ]
  },
  {
   "cell_type": "code",
   "execution_count": 18,
   "id": "24dc8be0-d6f7-4646-9819-64c6377cce42",
   "metadata": {},
   "outputs": [
    {
     "name": "stdout",
     "output_type": "stream",
     "text": [
      "['https://professeur-layton.fandom.com/fr/wiki/1000_fois', 'https://professeur-layton.fandom.com/fr/wiki/Affaires_de_famille', 'https://professeur-layton.fandom.com/fr/wiki/Alchimie_en_folie_01', 'https://professeur-layton.fandom.com/fr/wiki/Allumer_le_feu', 'https://professeur-layton.fandom.com/fr/wiki/Arch%C3%A9o-logique', 'https://professeur-layton.fandom.com/fr/wiki/Attaque_extraterrestre', 'https://professeur-layton.fandom.com/fr/wiki/Balances_inexactes', 'https://professeur-layton.fandom.com/fr/wiki/Boule_perdue_(1)', 'https://professeur-layton.fandom.com/fr/wiki/Chalands_patients', 'https://professeur-layton.fandom.com/fr/wiki/Chamailleries', 'https://professeur-layton.fandom.com/fr/wiki/Chambre_forte', 'https://professeur-layton.fandom.com/fr/wiki/Champ_d%27%C3%A9pouvantail_01', 'https://professeur-layton.fandom.com/fr/wiki/Chasse_aux_souris', 'https://professeur-layton.fandom.com/fr/wiki/Chat_balance...', 'https://professeur-layton.fandom.com/fr/wiki/Cherchez_l%27%C3%A9toile', 'https://professeur-layton.fandom.com/fr/wiki/Clown_ballonn%C3%A9', 'https://professeur-layton.fandom.com/fr/wiki/Conflits_de_voisinage', 'https://professeur-layton.fandom.com/fr/wiki/Contre-la-montre', 'https://professeur-layton.fandom.com/fr/wiki/Couleurs_%C3%A9nigmatiques', 'https://professeur-layton.fandom.com/fr/wiki/Course_hippique', 'https://professeur-layton.fandom.com/fr/wiki/Croix_de_bois...', 'https://professeur-layton.fandom.com/fr/wiki/D%27escale_en_escale', 'https://professeur-layton.fandom.com/fr/wiki/D%27un_seul_trait_(1)', 'https://professeur-layton.fandom.com/fr/wiki/D%27un_seul_trait_(2)', 'https://professeur-layton.fandom.com/fr/wiki/Dans_le_Petri', 'https://professeur-layton.fandom.com/fr/wiki/De_dr%C3%B4les_de_points', 'https://professeur-layton.fandom.com/fr/wiki/Drapeaux_en_f%C3%AAte', 'https://professeur-layton.fandom.com/fr/wiki/Dr%C3%B4le_de_sandwich', 'https://professeur-layton.fandom.com/fr/wiki/D%C3%A9coupage', 'https://professeur-layton.fandom.com/fr/wiki/D%C3%A9dale_num%C3%A9rique', 'https://professeur-layton.fandom.com/fr/wiki/D%C3%AEner_aux_chandelles', 'https://professeur-layton.fandom.com/fr/wiki/Emballage_fra%C3%AEcheur', 'https://professeur-layton.fandom.com/fr/wiki/Embouteillages', 'https://professeur-layton.fandom.com/fr/wiki/En_cavale', 'https://professeur-layton.fandom.com/fr/wiki/En_queue_de_poisson', 'https://professeur-layton.fandom.com/fr/wiki/En_un_coup_de_balai', 'https://professeur-layton.fandom.com/fr/wiki/Ensemencement', 'https://professeur-layton.fandom.com/fr/wiki/Gare_au_monstre_!', 'https://professeur-layton.fandom.com/fr/wiki/Groom_service', 'https://professeur-layton.fandom.com/fr/wiki/Hauts-de-forme', 'https://professeur-layton.fandom.com/fr/wiki/Histoire_de_g%C3%A9lules', 'https://professeur-layton.fandom.com/fr/wiki/Horloges_%C3%A0_billes', 'https://professeur-layton.fandom.com/fr/wiki/Intrigue_timbr%C3%A9e', 'https://professeur-layton.fandom.com/fr/wiki/In%C3%A9quations_%3F', 'https://professeur-layton.fandom.com/fr/wiki/Jongleur_tr%C3%A9bucheur', 'https://professeur-layton.fandom.com/fr/wiki/L%27appel_du_chocolat', 'https://professeur-layton.fandom.com/fr/wiki/L%27%C3%A2ge_de_ma_m%C3%A8re', 'https://professeur-layton.fandom.com/fr/wiki/L%27%C3%A2ge_de_mon_p%C3%A8re', 'https://professeur-layton.fandom.com/fr/wiki/La_bonne_chaise', 'https://professeur-layton.fandom.com/fr/wiki/La_manivelle', 'https://professeur-layton.fandom.com/fr/wiki/La_paix_des_cochons', 'https://professeur-layton.fandom.com/fr/wiki/La_travers%C3%A9e_(1)', 'https://professeur-layton.fandom.com/fr/wiki/Lance-bulles', 'https://professeur-layton.fandom.com/fr/wiki/Lapinothello', 'https://professeur-layton.fandom.com/fr/wiki/Le_moindre_effort', 'https://professeur-layton.fandom.com/fr/wiki/Le_myst%C3%A8re_de_la_clef', 'https://professeur-layton.fandom.com/fr/wiki/Le_pique-assiette', 'https://professeur-layton.fandom.com/fr/wiki/Le_poids_plume', 'https://professeur-layton.fandom.com/fr/wiki/Le_point_noir', 'https://professeur-layton.fandom.com/fr/wiki/Le_pont_les_%C3%AEles_Kwa%C3%AF', 'https://professeur-layton.fandom.com/fr/wiki/Le_village_myst%C3%A9rieux', 'https://professeur-layton.fandom.com/fr/wiki/Legs_peu_commun', 'https://professeur-layton.fandom.com/fr/wiki/Les_aiguilles_du_temps', 'https://professeur-layton.fandom.com/fr/wiki/Les_trois_parapluies', 'https://professeur-layton.fandom.com/fr/wiki/Mal_de_m%C3%A8re', 'https://professeur-layton.fandom.com/fr/wiki/March%C3%A9_%C3%A9quitable', 'https://professeur-layton.fandom.com/fr/wiki/Mise_en_plis', 'https://professeur-layton.fandom.com/fr/wiki/Naufrage', 'https://professeur-layton.fandom.com/fr/wiki/O%C3%B9_est_ma_maison_%3F', 'https://professeur-layton.fandom.com/fr/wiki/O%C3%B9_habite_Schrader_%3F', 'https://professeur-layton.fandom.com/fr/wiki/Paf_le_chien_!', 'https://professeur-layton.fandom.com/fr/wiki/Partage_gourmand', 'https://professeur-layton.fandom.com/fr/wiki/Pes%C3%A9e_lunaire', 'https://professeur-layton.fandom.com/fr/wiki/Petits_Papiers', 'https://professeur-layton.fandom.com/fr/wiki/Photo_choc', 'https://professeur-layton.fandom.com/fr/wiki/Pi%C3%A8ces_jaunes', 'https://professeur-layton.fandom.com/fr/wiki/Probl%C3%A8me_juteux', 'https://professeur-layton.fandom.com/fr/wiki/Probl%C3%A8me_lact%C3%A9', 'https://professeur-layton.fandom.com/fr/wiki/Randonn%C3%A9e_urbaine', 'https://professeur-layton.fandom.com/fr/wiki/Rangement_efficace', 'https://professeur-layton.fandom.com/fr/wiki/Robomathon', 'https://professeur-layton.fandom.com/fr/wiki/Soleils_divers', 'https://professeur-layton.fandom.com/fr/wiki/Suspects_habituels', 'https://professeur-layton.fandom.com/fr/wiki/Symbole_du_temps', 'https://professeur-layton.fandom.com/fr/wiki/Tapis_vert', 'https://professeur-layton.fandom.com/fr/wiki/Tas_de_feuilles', 'https://professeur-layton.fandom.com/fr/wiki/Tenir_l%27affiche', 'https://professeur-layton.fandom.com/fr/wiki/Triangle_%C3%A9quilat%C3%A9ral', 'https://professeur-layton.fandom.com/fr/wiki/Triangles_%C3%A0_l%27encre', 'https://professeur-layton.fandom.com/fr/wiki/Trop_d%27anneaux', 'https://professeur-layton.fandom.com/fr/wiki/Trop_de_souris', 'https://professeur-layton.fandom.com/fr/wiki/Un_mauvais_plan', 'https://professeur-layton.fandom.com/fr/wiki/Un_petit_g%C3%A2teau_%3F', 'https://professeur-layton.fandom.com/fr/wiki/Un_peu_d%27ordre', 'https://professeur-layton.fandom.com/fr/wiki/Un_peu_de_g%C3%A9om%C3%A9trie', 'https://professeur-layton.fandom.com/fr/wiki/Un_travail_de_fourmi', 'https://professeur-layton.fandom.com/fr/wiki/%C3%80_la_belle_%C3%A9toile', 'https://professeur-layton.fandom.com/fr/wiki/%C3%89nigme_%C3%A0_l%27anglaise_01', 'https://professeur-layton.fandom.com/fr/wiki/Cat%C3%A9gorie:%C3%89nigmes_de_l%27Appel_du_Spectre', 'https://professeur-layton.fandom.com/fr/wiki/Cat%C3%A9gorie:%C3%89nigmes_de_l%27aventure_Layton', 'https://professeur-layton.fandom.com/fr/wiki/Cat%C3%A9gorie:%C3%89nigmes_de_l%27H%C3%A9ritage_des_Aslantes', 'https://professeur-layton.fandom.com/fr/wiki/Cat%C3%A9gorie:%C3%89nigmes_de_l%27%C3%89trange_Village', 'https://professeur-layton.fandom.com/fr/wiki/Cat%C3%A9gorie:%C3%89nigmes_de_la_Bo%C3%AEte_de_Pandore', 'https://professeur-layton.fandom.com/fr/wiki/Cat%C3%A9gorie:%C3%89nigmes_du_Destin_Perdu', 'https://professeur-layton.fandom.com/fr/wiki/Cat%C3%A9gorie:%C3%89nigmes_du_Masque_des_Miracles', 'https://professeur-layton.fandom.com/fr/wiki/%C3%89quations_myst%C3%A8re']\n"
     ]
    }
   ],
   "source": [
    "# create an instance of the Service object\n",
    "service = Service(executable_path=ChromeDriverManager().install())\n",
    "\n",
    "# start Chrome using the service keyword\n",
    "driver = webdriver.Chrome(service=service)\n",
    "\n",
    "# On renseigne l'URL à laquelle on veut accéder\n",
    "driver.get(\"https://professeur-layton.fandom.com/fr/wiki/Cat%C3%A9gorie:%C3%89nigmes\")\n",
    "\n",
    "#enigmes = driver.find_elements(By.XPATH, \"//a[@href]\")\n",
    "# On va essayer de récupérer tous les liens des énigmes en recherchant par class\n",
    "enigmes = driver.find_elements(By.CLASS_NAME ,\"category-page__member-link\")\n",
    "liste_lien = []\n",
    "for elem in enigmes:\n",
    "    #On transforme les éléments web scrappé pour n'obtenir que les liens href associés\n",
    "    liste_lien.append(elem.get_attribute(\"href\"))"
   ]
  },
  {
   "cell_type": "code",
   "execution_count": null,
   "id": "0912a81f-65d4-4b36-a84b-d395ada23e4f",
   "metadata": {},
   "outputs": [],
   "source": [
    "# On peut visualiser alors la liste obtenue et s'assurer qu'on obtient bien 106 liens\n",
    "print(liste_lien, len(liste_lien))"
   ]
  },
  {
   "cell_type": "markdown",
   "id": "0f01c08a-e59b-48d1-b50f-3a527f28a7c0",
   "metadata": {},
   "source": [
    "###### Construction du DataFrame et itération sur chaque page d'énigme : Titre, Numéro, Enoncé, Indices, Solution"
   ]
  },
  {
   "cell_type": "markdown",
   "id": "a17bc7c6-9fd5-4982-a082-edef4c50df53",
   "metadata": {},
   "source": [
    "Pour réaliser une bonne itération, il faut voir"
   ]
  },
  {
   "cell_type": "markdown",
   "id": "90f7a2fa-1fcc-4c0a-b7fb-791a4679b4e1",
   "metadata": {},
   "source": [
    "# Sources \n",
    "- [Le web scrping est-il légal ?](https://www.iubenda.com/fr/help/111962-le-web-scraping-est-il-legal-ce-que-vous-devez-savoir#:~:text=La%20l%C3%A9galit%C3%A9%20du%20web%20scraping&text=Ne%20soyez%20pas%20trop%20enthousiaste,pas%20prot%C3%A9g%C3%A9es%20par%20un%20login)"
   ]
  },
  {
   "cell_type": "code",
   "execution_count": null,
   "id": "4309ce5d-1ccb-485e-a7be-42e201829559",
   "metadata": {},
   "outputs": [],
   "source": []
  },
  {
   "cell_type": "code",
   "execution_count": null,
   "id": "66b6ca94-6196-4273-b433-cc38bebc5b64",
   "metadata": {},
   "outputs": [],
   "source": []
  },
  {
   "cell_type": "code",
   "execution_count": null,
   "id": "32f9228c-9e41-46e3-9160-93c663d816ea",
   "metadata": {},
   "outputs": [],
   "source": []
  },
  {
   "cell_type": "code",
   "execution_count": null,
   "id": "b639e3b3-9883-45b8-82b3-f49adc07b1da",
   "metadata": {},
   "outputs": [],
   "source": []
  },
  {
   "cell_type": "code",
   "execution_count": 2,
   "id": "b7fb56f9-48bc-4b65-8188-56c94bba0767",
   "metadata": {},
   "outputs": [],
   "source": []
  },
  {
   "cell_type": "code",
   "execution_count": 3,
   "id": "720cf250-4e2b-407b-af7e-83c6a279c92f",
   "metadata": {},
   "outputs": [],
   "source": []
  },
  {
   "cell_type": "code",
   "execution_count": null,
   "id": "d634f045-3296-4982-ac1b-59b6f982e152",
   "metadata": {},
   "outputs": [],
   "source": []
  }
 ],
 "metadata": {
  "kernelspec": {
   "display_name": "Python 3 (ipykernel)",
   "language": "python",
   "name": "python3"
  },
  "language_info": {
   "codemirror_mode": {
    "name": "ipython",
    "version": 3
   },
   "file_extension": ".py",
   "mimetype": "text/x-python",
   "name": "python",
   "nbconvert_exporter": "python",
   "pygments_lexer": "ipython3",
   "version": "3.11.7"
  }
 },
 "nbformat": 4,
 "nbformat_minor": 5
}
