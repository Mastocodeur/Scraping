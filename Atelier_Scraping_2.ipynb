{
 "cells": [
  {
   "cell_type": "markdown",
   "id": "6248ecff-d609-4dac-8115-a793e448f360",
   "metadata": {},
   "source": [
    "## Activité 2 : Scraper l'agenda de Datacraft avec Selenium"
   ]
  },
  {
   "cell_type": "code",
   "execution_count": null,
   "id": "33450bb2-bb1b-45bb-9fa9-e17daf72a605",
   "metadata": {},
   "outputs": [],
   "source": [
    "# Import des bibliothèques\n",
    "from selenium import webdriver\n",
    "from selenium.webdriver.chrome.service import Service\n",
    "from selenium.webdriver.chrome.options import Options\n",
    "from webdriver_manager.chrome import ChromeDriverManager\n",
    "from selenium.webdriver.common.by import By"
   ]
  },
  {
   "cell_type": "code",
   "execution_count": null,
   "id": "13c7e904-26ea-4d6c-9732-00a1fcbc7579",
   "metadata": {},
   "outputs": [],
   "source": [
    "# create an instance of the Service object\n",
    "service = Service(executable_path=ChromeDriverManager().install())\n",
    "# start Chrome using the service keyword\n",
    "driver = webdriver.Chrome(service=service)\n",
    "# On renseigne l'URL à laquelle on veut accéder\n",
    "url = \"...\"\n",
    "driver.get(url)"
   ]
  },
  {
   "cell_type": "code",
   "execution_count": null,
   "id": "bc4a8803-2b3b-4f8a-ae73-85af3f2e7b9c",
   "metadata": {},
   "outputs": [],
   "source": [
    "event_title = driver.find_elements()\n",
    "date = driver.find_elements()\n",
    "heure = driver.find_elements()\n",
    "adresse =  driver.find_elements()"
   ]
  }
 ],
 "metadata": {
  "kernelspec": {
   "display_name": "Python 3 (ipykernel)",
   "language": "python",
   "name": "python3"
  },
  "language_info": {
   "codemirror_mode": {
    "name": "ipython",
    "version": 3
   },
   "file_extension": ".py",
   "mimetype": "text/x-python",
   "name": "python",
   "nbconvert_exporter": "python",
   "pygments_lexer": "ipython3",
   "version": "3.11.7"
  }
 },
 "nbformat": 4,
 "nbformat_minor": 5
}
