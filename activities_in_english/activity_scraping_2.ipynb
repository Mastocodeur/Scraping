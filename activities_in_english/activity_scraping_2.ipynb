{
 "cells": [
  {
   "cell_type": "markdown",
   "id": "6248ecff-d609-4dac-8115-a793e448f360",
   "metadata": {},
   "source": [
    "## Activity 2 : Scrape Datacraft's diary with Selenium"
   ]
  },
  {
   "cell_type": "markdown",
   "id": "34df0de0-bb1d-4bf0-a79c-700ee338ee15",
   "metadata": {},
   "source": [
    "<div style=\"text-align: center;\">\n",
    "    <img src=\"images/agenda_datacraft.png\" width=\"600\" height=\"300\">\n",
    "</div>"
   ]
  },
  {
   "cell_type": "code",
   "execution_count": null,
   "id": "0567978b-819d-4a61-ad98-401aa631376e",
   "metadata": {},
   "outputs": [],
   "source": [
    "# Importing libraries\n",
    "from selenium import webdriver\n",
    "from selenium.webdriver.chrome.service import Service\n",
    "from selenium.webdriver.chrome.options import Options\n",
    "from webdriver_manager.chrome import ChromeDriverManager\n",
    "from selenium.webdriver.common.by import By"
   ]
  },
  {
   "cell_type": "code",
   "execution_count": null,
   "id": "13c7e904-26ea-4d6c-9732-00a1fcbc7579",
   "metadata": {},
   "outputs": [],
   "source": [
    "# create an instance of the Service object\n",
    "service = Service(executable_path=ChromeDriverManager().install())\n",
    "# start Chrome using the service keyword\n",
    "driver = webdriver.Chrome(service=service)\n",
    "# Enter the URL you want to access\n",
    "url = \"...\"\n",
    "driver.get(url)"
   ]
  },
  {
   "cell_type": "code",
   "execution_count": null,
   "id": "bc4a8803-2b3b-4f8a-ae73-85af3f2e7b9c",
   "metadata": {},
   "outputs": [],
   "source": [
    "event_title = driver.find_elements()\n",
    "date = driver.find_elements()\n",
    "heure = driver.find_elements()\n",
    "adresse =  driver.find_elements()"
   ]
  }
 ],
 "metadata": {
  "kernelspec": {
   "display_name": "Python 3 (ipykernel)",
   "language": "python",
   "name": "python3"
  },
  "language_info": {
   "codemirror_mode": {
    "name": "ipython",
    "version": 3
   },
   "file_extension": ".py",
   "mimetype": "text/x-python",
   "name": "python",
   "nbconvert_exporter": "python",
   "pygments_lexer": "ipython3",
   "version": "3.11.7"
  }
 },
 "nbformat": 4,
 "nbformat_minor": 5
}
